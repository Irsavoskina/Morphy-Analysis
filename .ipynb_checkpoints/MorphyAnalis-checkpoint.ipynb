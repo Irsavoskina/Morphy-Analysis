{
 "cells": [
  {
   "cell_type": "code",
   "execution_count": 23,
   "id": "903d01b9",
   "metadata": {},
   "outputs": [],
   "source": [
    "import pandas as pd\n",
    "import re\n",
    "\n",
    "e = pd.read_excel('MorphyDict.xlsx', sheet_name = 'Таблица окончаний', index_col = \"номер\" ) #вызов таблицы окончаний\n",
    "m = pd.read_excel('MorphyDict.xlsx', sheet_name = 'Словарь основ', index_col = \"номер основы\")\n",
    "fl = pd.read_excel('MorphyDict.xlsx', sheet_name = 'Фл классы', index_col = \"номер класса\")\n",
    "grm = pd.read_excel('MorphyDict.xlsx', sheet_name = 'Таблица грамматической инф', index_col = \"Номер\")\n",
    "morph = pd.read_excel('MorphyDict.xlsx', sheet_name = 'Морфологическая таблица')\n",
    "inform = pd.read_excel('MorphyDict.xlsx', sheet_name = 'Информация', index_col = \"номер\")\n",
    "\n",
    "basis_list = m['основа'].tolist()\n",
    "ending_list = e['окончание'].tolist()"
   ]
  },
  {
   "cell_type": "code",
   "execution_count": 24,
   "id": "d97a1099",
   "metadata": {},
   "outputs": [
    {
     "name": "stdout",
     "output_type": "stream",
     "text": [
      "торговли\n"
     ]
    }
   ],
   "source": [
    "word = str(input())\n",
    "\n",
    "#Нахождение окончания и основы слова\n",
    "for i in basis_list:\n",
    "    for j in ending_list:\n",
    "        if i == word:\n",
    "            basis = i \n",
    "            ending = 'нулевое'\n",
    "        elif i + j == word:\n",
    "            basis = i\n",
    "            ending = j\n",
    "            break\n",
    "            \n",
    "filtre_basis = m[\"основа\"] == basis\n",
    "f = m.loc[m[\"основа\"] == basis]\n",
    "n_fl = int(m.loc[filtre_basis][\"номер фл кл\"]) #Номер флективного класса\n",
    "\n",
    "available_endings = (fl.loc[n_fl][\"окончания\"]).split(sep = \",\")    #Доступные ококнчания для номера фл. класса \n",
    "\n",
    "#Номер окончания\n",
    "if ending in available_endings:\n",
    "    ending_id = e[(e['окончание'] == ending)].index.values     "
   ]
  },
  {
   "cell_type": "code",
   "execution_count": 25,
   "id": "b68e8049",
   "metadata": {},
   "outputs": [],
   "source": [
    "#часть речи слова по номеру флективного класса\n",
    "\n",
    "if 8 >= n_fl >= 1:\n",
    "    pos = \"существительное\"\n",
    "    if n_fl == 1 or n_fl == 2:\n",
    "        part_of_speech = f\"{pos} мужского рода неодушевленное\"\n",
    "    elif 5 >= n_fl >= 3:\n",
    "        part_of_speech = f\"{pos} женского рода неодушевленное\"\n",
    "    elif 8 >= n_fl >= 6:\n",
    "        part_of_speech = f\"{pos} среднего рода\"\n",
    "elif 10 >= n_fl >= 9:\n",
    "    part_of_speech = \"прилагательное\"\n",
    "    pos = part_of_speech\n",
    "elif 13 >= n_fl >= 11:\n",
    "    part_of_speech = \"глагол в личной форме\"\n",
    "    pos = \"глагол\"\n",
    "elif 15 >= n_fl >= 14:\n",
    "    part_of_speech = \"глагол в прошедшем времени, краткое прилагательное или причастие\"    \n",
    "    pos = \"причастие\"\n",
    "elif 23 >= n_fl >= 16:\n",
    "    part_of_speech = \"местоимение\" \n",
    "elif 28 >= n_fl >= 24:\n",
    "    part_of_speech = \"предлог\"\n",
    "elif n_fl == 29:\n",
    "    part_of_speech = \"наречие\"\n",
    "elif 31 >= n_fl >= 30:\n",
    "    part_of_speech = \"союз\"\n",
    "elif 33 >= n_fl >= 32:\n",
    "    part_of_speech = \"неизменяемое слово\"\n",
    "    \n",
    "#Если слово неизменяемое выдать информацию и остановить \n",
    "if n_fl >= 15:\n",
    "    print(part_of_speech)"
   ]
  },
  {
   "cell_type": "code",
   "execution_count": 26,
   "id": "156b8c6e",
   "metadata": {},
   "outputs": [
    {
     "name": "stdout",
     "output_type": "stream",
     "text": [
      "существительное женского рода неодушевленное ['родительный  падеж, ед. число', 'именительный  падеж, мн. число', 'винительный падеж, мн. число']\n"
     ]
    }
   ],
   "source": [
    "#Работа с таблицей морфологической информации\n",
    "morph_info_number_list = morph.fillna(\"0,0\")[n_fl].tolist() \n",
    "morph_info_number = [x.split(',') for x in morph_info_number_list]\n",
    "    \n",
    "#номер морфологической информации соответствующий номеру окончания   \n",
    "for n in range(5):\n",
    "    if int(morph_info_number[n][0]) == ending_id:\n",
    "        info_number = int(morph_info_number[n][1])  \n",
    "\n",
    "info = grm.loc[info_number]['Информация'] #грамматическая информация\n",
    "\n",
    "#определение грамматической информации сущ и прил\n",
    "def manager_info():\n",
    "    if type(info) == int and info > 5:\n",
    "        one_info = str(info)[0]\n",
    "        two_info = str(info)[1]\n",
    "        one_info = int(one_info)\n",
    "        #wo_info = int(two_info)\n",
    "    elif type(info) == str:\n",
    "        inform = info.split(',')\n",
    "        lon = len(inform)\n",
    "        one_info, two_info = [], []\n",
    "        for n in range(lon):\n",
    "            one_info.append(int(inform[n][0]))\n",
    "            two_info.append(int(inform[n][1]))\n",
    "    return one_info, two_info\n",
    "\n",
    "c = []\n",
    "\n",
    "#Сбор информации из грамматической таблицы\n",
    "if pos == \"причастие\":\n",
    "    numb = inform.loc[info][\"род, число\"] #str\n",
    "    gram_inf = f\"{numb}\"\n",
    "elif pos == \"глагол\":\n",
    "    numb = inform.loc[info][\"лицо, число\"] #str\n",
    "    gram_inf = f\"{numb}\"\n",
    "else:\n",
    "    one_info, two_info = manager_info()\n",
    "    if type(one_info) == int and type(two_info) == int:\n",
    "        if pos == \"существительное\":\n",
    "            numb = inform.loc[one_info][\"число\"]\n",
    "            noun = inform.loc[two_info][\"падеж\"]     \n",
    "            gram_inf = f\"{noun} падеж, {numb}\"\n",
    "        elif pos == \"прилагательное\":   \n",
    "            numb = inform.loc[one_info][\"род, число\"] \n",
    "            noun = inform.loc[two_info][\"падеж\"]\n",
    "            gram_inf = f\"{numb}, {noun} падеж\"\n",
    "    elif type(one_info) == list and type(two_info) == list:        \n",
    "        if pos == \"существительное\":\n",
    "            for i, j in zip(one_info, two_info):\n",
    "                numb = inform.loc[i][\"число\"]\n",
    "                noun = inform.loc[j][\"падеж\"]\n",
    "                gram_inf = f\"{noun} падеж, {numb}\"\n",
    "                c.append(gram_inf)\n",
    "                gram_inf = c\n",
    "        if pos == \"прилагательное\":\n",
    "            for i, j in zip(one_info, two_info):\n",
    "                numb = inform.loc[i][\"род, число\"] \n",
    "                noun = inform.loc[j][\"падеж\"]\n",
    "                gram_inf = f\"{numb}, {noun} падеж\"\n",
    "                c.append(gram_inf)\n",
    "print(f\"{part_of_speech} {gram_inf}\")"
   ]
  },
  {
   "cell_type": "code",
   "execution_count": null,
   "id": "6ea68a02",
   "metadata": {},
   "outputs": [],
   "source": []
  }
 ],
 "metadata": {
  "kernelspec": {
   "display_name": "Python 3 (ipykernel)",
   "language": "python",
   "name": "python3"
  },
  "language_info": {
   "codemirror_mode": {
    "name": "ipython",
    "version": 3
   },
   "file_extension": ".py",
   "mimetype": "text/x-python",
   "name": "python",
   "nbconvert_exporter": "python",
   "pygments_lexer": "ipython3",
   "version": "3.11.4"
  }
 },
 "nbformat": 4,
 "nbformat_minor": 5
}
